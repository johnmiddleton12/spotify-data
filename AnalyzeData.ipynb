{
 "cells": [
  {
   "cell_type": "code",
   "execution_count": null,
   "metadata": {},
   "outputs": [],
   "source": [
    "import os\n",
    "import json\n",
    "import numpy as np\n",
    "import pandas as pd\n",
    "\n",
    "# get all files in MyData folder\n",
    "files = os.listdir('MyData')\n",
    "\n",
    "# get all files with .json extension\n",
    "files = [f for f in files if f[-5:] == '.json']\n",
    "\n",
    "# parse each file, making big json string\n",
    "stream = []\n",
    "for f in files:\n",
    "    with open('MyData/' + f, 'r') as file:\n",
    "        data = json.load(file)\n",
    "        stream.extend(data)\n",
    "\n",
    "# convert string to dataframe\n",
    "df = pd.DataFrame.from_records(stream)"
   ]
  },
  {
   "cell_type": "code",
   "execution_count": 84,
   "id": "a2225c52",
   "metadata": {},
   "outputs": [
    {
     "name": "stdout",
     "output_type": "stream",
     "text": [
      "Index(['ts', 'username', 'platform', 'ms_played', 'conn_country',\n",
      "       'ip_addr_decrypted', 'user_agent_decrypted',\n",
      "       'master_metadata_track_name', 'master_metadata_album_artist_name',\n",
      "       'master_metadata_album_album_name', 'spotify_track_uri', 'episode_name',\n",
      "       'episode_show_name', 'spotify_episode_uri', 'reason_start',\n",
      "       'reason_end', 'shuffle', 'skipped', 'offline', 'offline_timestamp',\n",
      "       'incognito_mode'],\n",
      "      dtype='object')\n"
     ]
    }
   ],
   "source": [
    "# print all columns in the dataframe\n",
    "print(df.columns)"
   ]
  },
  {
   "cell_type": "code",
   "execution_count": null,
   "id": "07bf24be",
   "metadata": {},
   "outputs": [],
   "source": [
    "# sum ms_played for each row\n",
    "total_ms_played = df['ms_played'].sum()\n",
    "print('Total time listened: {} days, {} hours, {} minutes, {} seconds'.format(\n",
    "    int(total_ms_played / 1000 / 60 / 60 / 24),\n",
    "    int(total_ms_played / 1000 / 60 / 60 % 24),\n",
    "    int(total_ms_played / 1000 / 60 % 60),\n",
    "    int(total_ms_played / 1000 % 60)\n",
    "))"
   ]
  },
  {
   "cell_type": "code",
   "execution_count": null,
   "id": "3ef855c7",
   "metadata": {},
   "outputs": [],
   "source": [
    "\n",
    "# create a new dataframe with the total number of milliseconds played for each song, and the counts each song occured\n",
    "# then sort the dataframe by the total number of milliseconds played\n",
    "group_by_song = df.groupby(['master_metadata_track_name', 'master_metadata_album_artist_name']).agg({'ms_played': ['sum', 'count']})\n",
    "group_by_song = group_by_song.reset_index()\n",
    "group_by_song.columns = ['song_name', 'artist_name', 'time_played', 'count']\n",
    "group_by_song = group_by_song.sort_values(by=['time_played'], ascending=False)\n",
    "group_by_song['time_played'] = group_by_song['time_played'].apply(lambda x: str(str(int(x / 3600000))) + \"h \" + str(int((x % 3600000) / 60000)) + \"m \" + str(int((x % 60000) / 1000)) + \"s\")\n",
    "group_by_song.head(50)"
   ]
  },
  {
   "cell_type": "code",
   "execution_count": null,
   "id": "5bfe3c05",
   "metadata": {},
   "outputs": [],
   "source": [
    "# show row of group_by_song where \"song_name\" equals \"The Less I Know The Better\"\n",
    "top_pink_floyds = group_by_song[group_by_song['artist_name'] == 'Pink Floyd']\n",
    "top_pink_floyds.head(25)"
   ]
  }
 ],
 "metadata": {
  "kernelspec": {
   "display_name": "env",
   "language": "python",
   "name": "python3"
  },
  "language_info": {
   "codemirror_mode": {
    "name": "ipython",
    "version": 3
   },
   "file_extension": ".py",
   "mimetype": "text/x-python",
   "name": "python",
   "nbconvert_exporter": "python",
   "pygments_lexer": "ipython3",
   "version": "3.11.3"
  }
 },
 "nbformat": 4,
 "nbformat_minor": 5
}
